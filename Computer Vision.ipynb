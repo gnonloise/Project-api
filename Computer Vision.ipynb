{
 "cells": [
  {
   "cell_type": "code",
   "execution_count": 1,
   "id": "e0169fcc-d28e-4e33-8f78-6c077d9473aa",
   "metadata": {},
   "outputs": [],
   "source": [
    "import cv2\n",
    "from ultralytics import YOLO\n",
    "import threading"
   ]
  },
  {
   "cell_type": "code",
   "execution_count": 2,
   "id": "ebe7d617-1c8a-4df9-bf8b-562533c5e2dd",
   "metadata": {},
   "outputs": [],
   "source": [
    "#define the video files for the trackers\n",
    "\n",
    "video_file01 = 'ultralytics/test.mp4'\n",
    "#video_file02 = 0 #webcam path (index)\n",
    "video_file02 = 'wiada.mp4'\n",
    "#video_file02 = 'video.mp4'"
   ]
  },
  {
   "cell_type": "code",
   "execution_count": null,
   "id": "ca7f213f-ebeb-455d-9424-524bc4b7b7a5",
   "metadata": {},
   "outputs": [],
   "source": []
  }
 ],
 "metadata": {
  "kernelspec": {
   "display_name": "Python 3 (ipykernel)",
   "language": "python",
   "name": "python3"
  },
  "language_info": {
   "codemirror_mode": {
    "name": "ipython",
    "version": 3
   },
   "file_extension": ".py",
   "mimetype": "text/x-python",
   "name": "python",
   "nbconvert_exporter": "python",
   "pygments_lexer": "ipython3",
   "version": "3.10.12"
  }
 },
 "nbformat": 4,
 "nbformat_minor": 5
}
